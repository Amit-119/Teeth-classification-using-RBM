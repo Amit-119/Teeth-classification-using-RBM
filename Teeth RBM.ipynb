{
 "cells": [
  {
   "cell_type": "code",
   "execution_count": 1,
   "metadata": {},
   "outputs": [],
   "source": [
    "import tensorflow as tf \n",
    "import numpy as np\n",
    "from tensorflow.examples.tutorials.mnist import input_data\n",
    "import os\n",
    "import matplotlib.pyplot as plt\n",
    "import time \n"
   ]
  },
  {
   "cell_type": "code",
   "execution_count": 2,
   "metadata": {},
   "outputs": [],
   "source": [
    "class RBM():\n",
    "    def __init__(self, nv=2500, nh=64*8, cd_steps=3):\n",
    "        self.graph = tf.Graph() \n",
    "        with self.graph.as_default(): \n",
    "            self.W = tf.Variable(tf.truncated_normal((nv, nh)) * 0.01)\n",
    "            self.bv = tf.Variable(tf.zeros((nv, 1))) \n",
    "            self.bh = tf.Variable(tf.zeros((nh, 1)))\n",
    "            \n",
    "            self.cd_steps = cd_steps \n",
    "            self.modelW = None\n",
    "            \n",
    "            self.nv = nv\n",
    "            self.nh = nh\n",
    "            self.lr = 0.1\n",
    "    \n",
    "    def bernoulli(self, p):\n",
    "        return tf.nn.relu(tf.sign(p - tf.random_uniform(p.shape)))\n",
    "    \n",
    "    def energy(self, v):\n",
    "        b_term = tf.matmul(v, self.bv)\n",
    "        linear_tranform = tf.matmul(v, self.W) + tf.squeeze(self.bh)\n",
    "        h_term = tf.reduce_sum(tf.log(tf.exp(linear_tranform) + 1), axis=1) \n",
    "        return tf.reduce_mean(-h_term -b_term)\n",
    "    \n",
    "    def sample_h(self, v):\n",
    "        ph_given_v = tf.sigmoid(tf.matmul(v, self.W) + tf.squeeze(self.bh))\n",
    "        return self.bernoulli(ph_given_v)\n",
    "    \n",
    "    def sample_v(self, h):\n",
    "        pv_given_h = tf.sigmoid(tf.matmul(h, tf.transpose(self.W)) + tf.squeeze(self.bv))\n",
    "        return self.bernoulli(pv_given_h)\n",
    "    \n",
    "    def gibbs_step(self, i, k, vk):\n",
    "        hk = self.sample_h(vk)\n",
    "        vk = self.sample_v(hk)\n",
    "        return i+1, k, vk\n",
    "    \n",
    "    #-----------------------------------AMIT\n",
    "    def get_probabilities(self,layer, weights, val, bias):\n",
    "        if layer == 'hidden':\n",
    "            with tf.name_scope(\"Hidden_Probabilities\"):\n",
    "                return tf.nn.sigmoid(tf.matmul(val, weights) + bias)\n",
    "        elif layer == 'visible':\n",
    "            with tf.name_scope(\"Visible_Probabilities\"):\n",
    "                return tf.nn.sigmoid(tf.matmul(val, tf.transpose(weights)) + bias)\n",
    "    \n",
    "    def sample(self,probabilities):\n",
    "        return tf.floor(probabilities + tf.random_uniform(tf.shape(probabilities), 0, 1))\n",
    "    \n",
    "    def gibbs(self,steps, v, hb, vb, W):\n",
    "        with tf.name_scope(\"Gibbs_sampling\"):\n",
    "            for i in range(steps):\n",
    "                hidden_p = self.get_probabilities('hidden', W, v, hb)\n",
    "                h = self.sample(hidden_p)\n",
    "\n",
    "                visible_p = self.get_probabilities('visible', W, h, vb)\n",
    "                v = visible_p\n",
    "                #v = self.sample(visible_p)\n",
    "            return visible_p\n",
    "    #-----------------------------------AMIT\n",
    "    "
   ]
  },
  {
   "cell_type": "code",
   "execution_count": 3,
   "metadata": {},
   "outputs": [
    {
     "name": "stdout",
     "output_type": "stream",
     "text": [
      "[[0.4        0.4        0.36078431 ... 0.55686275 0.58039216 0.60392157]\n",
      " [0.59215686 0.4        0.66666667 ... 0.32156863 0.31372549 0.32156863]\n",
      " [0.63137255 0.60392157 0.71764706 ... 0.51372549 0.55686275 0.67843137]\n",
      " ...\n",
      " [0.34117647 0.32941176 0.35294118 ... 0.41176471 0.40784314 0.41960784]\n",
      " [0.51764706 0.54117647 0.57254902 ... 0.37254902 0.37647059 0.45098039]\n",
      " [0.16078431 0.14117647 0.11764706 ... 0.45098039 0.38431373 0.42352941]]\n"
     ]
    }
   ],
   "source": [
    "X=np.load('features.npy')#loading Data\n",
    "Y=np.load('labels.npy')\n",
    "\n",
    "\n",
    "data = X \n",
    "print(data)\n"
   ]
  },
  {
   "cell_type": "code",
   "execution_count": 7,
   "metadata": {},
   "outputs": [],
   "source": [
    "#SESSION------------>\n",
    "\n",
    "sess = tf.InteractiveSession()\n",
    "\n",
    "rbm_model= RBM(cd_steps=3)\n",
    "\n",
    "# Placeholder for the visible layer of the RBM computation graph.\n",
    "v    = tf.placeholder(tf.float32, shape=[None,rbm_model.nv], name=\"visible_layer\")\n",
    "size = tf.cast(tf.shape(v)[0], tf.float32)\n",
    "\n",
    "\n",
    "\n",
    "# Initialize weights and biases a la Hinton\n",
    "with tf.name_scope('Weights'):\n",
    "    W = tf.Variable(tf.random_normal([rbm_model.nv, rbm_model.nh], mean=0., stddev=4 * np.sqrt(6. / (rbm_model.nv + rbm_model.nh))), name=\"weights\")\n",
    "    tf.summary.histogram('weights',W)\n",
    "\n",
    "    \n",
    "\n",
    "vb = tf.Variable(tf.zeros([1,rbm_model.nv]),tf.float32, name=\"visible_bias\")\n",
    "hb = tf.Variable(tf.zeros([1,rbm_model.nh]),tf.float32, name=\"hidden_bias\")\n",
    "\n",
    "\n",
    "\n",
    "# Similarity between reconstructed/sampled visible layer and input during training. \n",
    "# Summary for Tensorboard visualization \n",
    "with tf.name_scope(\"Reconstruction_error\"): \n",
    "    reconstruction_error = tf.Variable(0.0,name=\"reconstruction_error\")\n",
    "    tf.summary.scalar('reconstruction_error',reconstruction_error)\n",
    "\n",
    "#--------------------->"
   ]
  },
  {
   "cell_type": "code",
   "execution_count": 8,
   "metadata": {},
   "outputs": [],
   "source": [
    "# K-step Contrastive Divergence using Gibbs sampling\n",
    "# Positive divergence   \n",
    "\n",
    "\n",
    "with tf.name_scope('Hidden_probabilities'):\n",
    "    pos_hid_prob = rbm_model.get_probabilities('hidden',W,v,hb)\n",
    "with tf.name_scope('Positive_Divergence'):\n",
    "    pos_divergence = tf.matmul(tf.transpose(v),pos_hid_prob)\n",
    "\n",
    "    \n",
    "\n",
    "pos_hid_states = rbm_model.sample(pos_hid_prob)\n",
    "neg_vis_prob = rbm_model.get_probabilities('visible', W, pos_hid_states, vb)\n",
    "#neg_vis_states = rbm.sample(neg_vis_prob)\n",
    "\n",
    "\n",
    "# Negative divergence\n",
    "with tf.name_scope('Negative_hidden_probabilities'):\n",
    "    neg_hid_prob = rbm_model.get_probabilities('hidden', W, neg_vis_prob, hb)\n",
    "with tf.name_scope('Negative_Divergence'):\n",
    "    neg_divergence = tf.matmul(tf.transpose(neg_vis_prob),neg_hid_prob)\n",
    "    \n",
    "    \n",
    "\n",
    "# Accuracy on reconstructing visible layer and free energy\n",
    "a = tf.reduce_mean(tf.squared_difference(v,neg_vis_prob))\n",
    "rec_error = [reconstruction_error.assign(a)]\n",
    "#energy  =  rbm.free_energy(v = v, weights=W,hbias=hb,vbias=vb) \n",
    "#accuracy_update = [accuracy.assign_add(reconstruction_accuracy)]\n",
    "\n"
   ]
  },
  {
   "cell_type": "code",
   "execution_count": 9,
   "metadata": {},
   "outputs": [],
   "source": [
    "# Update rules for weights and biases\n",
    "# Summaries of gradient for Tensorboard visualization\n",
    "\n",
    "\n",
    "with tf.name_scope('Weight_gradient'):\n",
    "    delta_w = tf.multiply(rbm_model.lr/size, tf.subtract(pos_divergence,neg_divergence))\n",
    "    weight_gradient_scalar = tf.summary.scalar('weight_increment',tf.reduce_mean(delta_w))\n",
    "    \n",
    "\n",
    "with tf.name_scope('Visible_bias_gradient'):\n",
    "    delta_vb = tf.multiply(rbm_model.lr/size, tf.reduce_sum(tf.subtract(v,neg_vis_prob), 0, keepdims=True))\n",
    "    \n",
    "    \n",
    "with tf.name_scope('Hidden_bias_gradient'):\n",
    "    delta_hb= tf.multiply(rbm_model.lr/size, tf.reduce_sum(tf.subtract(pos_hid_prob,neg_hid_prob), 0, keepdims=True))\n",
    "\n",
    "    \n",
    "update = [W.assign_add(delta_w), vb.assign_add(delta_vb), hb.assign_add(delta_hb)]\n",
    "\n",
    "\n",
    "# Merge summaries for Tensorboard\n",
    "summary = tf.summary.merge_all()\n",
    "path_test = os.getcwd()  + '/RBM_logs/MNIST_Bernoulli'\n",
    "test_writer = tf.summary.FileWriter(path_test,sess.graph)\n",
    "\n",
    "sess.run(tf.global_variables_initializer())\n"
   ]
  },
  {
   "cell_type": "code",
   "execution_count": 10,
   "metadata": {},
   "outputs": [
    {
     "name": "stdout",
     "output_type": "stream",
     "text": [
      "Reconstruction error at step 0: [0.16604109]\n",
      "Reconstruction error at step 200: [0.040501148]\n",
      "Reconstruction error at step 400: [0.038548574]\n",
      "Reconstruction error at step 600: [0.037177343]\n",
      "Reconstruction error at step 800: [0.03704867]\n",
      "Elapsed time for training Bernoulli RBM with CD-1 and 1000 epochs: 177.22539138793945 \n"
     ]
    }
   ],
   "source": [
    "start_time = time.time()\n",
    "\n",
    "#####------------------------- Start of training ----------------######\n",
    "\n",
    "y_ = tf.placeholder(tf.float32, [None, 10])\n",
    "\n",
    "\n",
    "epochs = 1000\n",
    "for epoch in range(epochs):\n",
    "    if epoch % 200 == 0:\n",
    "        feed={v: data} \n",
    "        result = sess.run([rec_error,summary],feed_dict=feed)\n",
    "        acc = result[0]\n",
    "        test_writer.add_summary(result[1],epoch)\n",
    "        print(\"Reconstruction error at step %s: %s\" % (epoch, acc))\n",
    "        \n",
    "    else: \n",
    "        batchXs, batchYs = X,Y \n",
    "        feed={v: batchXs}#,y: batchYs}\n",
    "        result = sess.run([update], feed_dict = feed)\n",
    "        \n",
    "\n",
    "##### --------------- ######       \n",
    "#####------------------- End of Training ----------------------######\n",
    "\n",
    "# Plot\n",
    "\n",
    "print(\"Elapsed time for training Bernoulli RBM with CD-1 and %s epochs: %s \"%(epochs,time.time()-start_time))\n",
    "#rbm.plot_weight_update(x=np.arange(0,rbm_model.epochs,1),y=np.abs(err))\n"
   ]
  },
  {
   "cell_type": "code",
   "execution_count": 11,
   "metadata": {},
   "outputs": [
    {
     "data": {
      "image/png": "[encoded data removed]",
      "text/plain": [
       "<Figure size 432x288 with 1 Axes>"
      ]
     },
     "metadata": {
      "needs_background": "light"
     },
     "output_type": "display_data"
    },
    {
     "data": {
      "image/png": "[encoded data removed]",
      "text/plain": [
       "<Figure size 432x288 with 1 Axes>"
      ]
     },
     "metadata": {
      "needs_background": "light"
     },
     "output_type": "display_data"
    },
    {
     "data": {
      "image/png": "[encoded data removed]",
      "text/plain": [
       "<Figure size 432x288 with 1 Axes>"
      ]
     },
     "metadata": {
      "needs_background": "light"
     },
     "output_type": "display_data"
    },
    {
     "data": {
      "image/png": "[encoded data removed]",
      "text/plain": [
       "<Figure size 432x288 with 1 Axes>"
      ]
     },
     "metadata": {
      "needs_background": "light"
     },
     "output_type": "display_data"
    }
   ],
   "source": [
    "##### Testing ##### \n",
    "# Testing the RBM for one sample step after learning the weights    \n",
    "\n",
    "\n",
    "first_image = 1\n",
    "test_image  = X[first_image] #mnist_train.images[first_image]\n",
    "test_image2 = X[first_image] #mnist.test.images[first_image]\n",
    "def show_teeth(x):\n",
    "    plt.imshow(x.reshape((50,50)),cmap = plt.cm.gray)\n",
    "    plt.show()\n",
    "\n",
    "sample = rbm_model.gibbs(1,v=v,hb=hb,vb=vb,W=W).eval(session=sess, feed_dict={v: test_image.reshape(1,-1).astype(np.float32)})    \n",
    "sample_test = rbm_model.gibbs(1,v=v,hb=hb,vb=vb,W=W).eval(session=sess, feed_dict={v: test_image2.reshape(1,-1).astype(np.float32)})    \n",
    "show_teeth(test_image)\n",
    "show_teeth(sample)\n",
    "\n",
    "show_teeth(test_image2)\n",
    "show_teeth(sample_test)\n",
    "tf.reset_default_graph()\n",
    "\n"
   ]
  },
  {
   "cell_type": "code",
   "execution_count": null,
   "metadata": {},
   "outputs": [],
   "source": []
  }
 ],
 "metadata": {
  "kernelspec": {
   "display_name": "Python 3",
   "language": "python",
   "name": "python3"
  },
  "language_info": {
   "codemirror_mode": {
    "name": "ipython",
    "version": 3
   },
   "file_extension": ".py",
   "mimetype": "text/x-python",
   "name": "python",
   "nbconvert_exporter": "python",
   "pygments_lexer": "ipython3",
   "version": "3.6.8"
  }
 },
 "nbformat": 4,
 "nbformat_minor": 2
}
