{
 "cells": [
  {
   "cell_type": "code",
   "execution_count": 1,
   "metadata": {
    "scrolled": true
   },
   "outputs": [],
   "source": [
    "import tensorflow as tf \n",
    "import numpy as np\n",
    "import matplotlib.pyplot as plt\n",
    "import cv2\n",
    "import os\n",
    "DATADIR=\"C:/Users/wiN-1o/Desktop/Final_Year_Project/Dataset/dataset/training_set\"\n",
    "CATEGORIES=[\"cap\",\"imp\",\"inci\",\"mol\"]\n"
   ]
  },
  {
   "cell_type": "code",
   "execution_count": 2,
   "metadata": {},
   "outputs": [],
   "source": [
    "IMG_SIZE=50"
   ]
  },
  {
   "cell_type": "code",
   "execution_count": 3,
   "metadata": {},
   "outputs": [
    {
     "name": "stdout",
     "output_type": "stream",
     "text": [
      "Category  0 :  cap\n",
      "Category  1 :  imp\n",
      "Category  2 :  inci\n",
      "Category  3 :  mol\n"
     ]
    }
   ],
   "source": [
    "training_data=[]\n",
    "def create_training_data():\n",
    "    for category in CATEGORIES:\n",
    "        path=os.path.join(DATADIR,category)\n",
    "        class_num=CATEGORIES.index(category)\n",
    "        print(\"Category \",class_num,\": \",category)\n",
    "        for img in os.listdir(path):\n",
    "            img_array=cv2.imread(os.path.join(path,img),cv2.IMREAD_GRAYSCALE)\n",
    "            new_array=cv2.resize(img_array,(IMG_SIZE,IMG_SIZE))\n",
    "            training_data.append([new_array,class_num])\n",
    "            #plt.imshow(new_array,cmap=\"gray\")\n",
    "            #plt.show()\n",
    "create_training_data()"
   ]
  },
  {
   "cell_type": "code",
   "execution_count": 4,
   "metadata": {},
   "outputs": [
    {
     "name": "stdout",
     "output_type": "stream",
     "text": [
      "800\n"
     ]
    }
   ],
   "source": [
    "print(len(training_data))"
   ]
  },
  {
   "cell_type": "code",
   "execution_count": 5,
   "metadata": {},
   "outputs": [],
   "source": [
    "import random\n",
    "random.shuffle(training_data)"
   ]
  },
  {
   "cell_type": "code",
   "execution_count": 6,
   "metadata": {},
   "outputs": [
    {
     "name": "stdout",
     "output_type": "stream",
     "text": [
      "3 1 0 1 0 1 3 0 0 0 1 3 3 0 0 3 3 3 2 3 2 1 2 1 1 1 3 2 0 0 3 3 1 1 1 3 1 0 2 3 2 0 3 2 0 0 1 0 2 1 2 3 3 2 3 1 1 0 2 0 0 0 1 1 0 0 0 0 1 3 1 0 1 0 3 1 0 1 2 0 0 3 3 1 2 0 1 3 3 3 1 2 2 2 1 0 1 0 0 0 3 0 1 0 1 3 2 3 0 3 1 0 2 0 3 1 1 2 0 0 2 0 2 0 3 1 3 2 1 1 0 3 1 1 2 2 1 1 2 0 0 3 1 0 2 1 2 1 3 3 0 1 0 3 3 2 0 1 0 2 2 3 1 1 2 1 2 2 1 2 3 2 1 0 2 3 3 0 1 0 1 0 2 1 2 1 0 1 2 3 0 1 3 1 3 2 3 2 1 3 0 2 1 2 0 3 1 2 2 1 2 0 2 2 2 1 2 0 0 0 2 3 3 0 3 2 2 0 0 3 2 3 1 0 2 3 1 3 3 2 1 1 1 3 3 0 3 0 3 3 2 3 2 0 2 1 3 3 0 1 0 2 2 2 1 0 0 2 0 2 3 0 2 2 3 1 3 2 3 2 1 1 0 1 2 1 3 1 1 3 0 3 0 0 0 1 3 1 0 3 3 3 1 0 0 1 2 2 1 3 0 0 0 0 1 2 2 3 1 0 2 2 1 3 3 0 3 2 1 2 2 1 0 2 0 0 1 0 3 0 1 1 0 0 3 2 3 3 3 1 2 3 3 0 1 2 3 0 3 3 0 0 3 0 2 2 3 2 1 3 0 3 1 0 3 3 2 0 2 1 3 3 1 0 3 3 2 3 0 1 1 1 1 0 2 2 2 1 2 0 3 1 3 2 2 0 2 3 2 3 1 2 2 1 2 3 2 3 1 0 3 1 0 1 0 3 1 3 1 1 3 1 0 0 3 3 0 2 2 2 3 2 2 2 1 3 0 3 1 2 0 0 0 2 3 2 2 3 2 3 0 3 2 3 2 3 1 2 1 3 3 1 3 0 1 2 3 2 3 3 0 0 2 1 0 1 3 1 2 0 1 0 1 3 3 1 2 2 1 0 3 0 2 1 2 0 3 0 3 3 3 1 3 2 0 2 0 3 1 2 3 2 0 0 2 0 2 2 1 1 0 2 1 1 0 0 3 2 3 3 2 1 2 0 3 0 2 2 2 3 1 3 2 0 1 0 1 1 2 2 2 3 1 3 1 2 2 3 2 2 1 0 1 1 0 1 0 3 0 1 3 2 3 3 0 3 2 2 1 3 2 0 0 0 0 0 2 2 2 0 2 1 2 3 3 3 1 0 0 2 3 3 0 3 0 1 2 3 3 2 0 2 0 2 2 3 1 2 1 1 0 2 3 0 2 1 0 1 1 1 0 0 2 1 2 3 3 2 2 3 0 1 1 3 0 0 0 2 3 3 0 3 2 3 1 3 0 0 0 1 1 3 0 2 2 1 2 2 3 3 1 2 1 0 1 1 1 2 0 3 0 1 1 2 0 3 3 2 1 2 1 2 0 1 2 1 0 0 3 1 2 0 0 1 0 2 1 2 1 1 1 1 2 2 1 1 3 0 1 1 0 2 1 1 3 3 1 3 2 2 3 1 2 0 3 2 0 3 0 2 0 2 2 1 0 1 3 3 2 0 3 0 1 3 0 3 2 2 1 1 1 0 3 1 2 0 3 1 3 1 1 2 3 0 0 1 0 2 3 3 3 2 0 1 1 3 2 0 3 0 "
     ]
    }
   ],
   "source": [
    "for sample in training_data:\n",
    "    print(sample[1],end=\" \")"
   ]
  },
  {
   "cell_type": "code",
   "execution_count": 7,
   "metadata": {},
   "outputs": [],
   "source": [
    "X=[]\n",
    "Y=[]\n",
    "\n",
    "for features,labels in training_data:\n",
    "    X.append(features)\n",
    "    Y.append(labels)"
   ]
  },
  {
   "cell_type": "code",
   "execution_count": 8,
   "metadata": {},
   "outputs": [],
   "source": [
    "X=np.array(X).reshape(-1,IMG_SIZE*IMG_SIZE)\n",
    "\n",
    "X = (X-X.min())/(X.max()-X.min())"
   ]
  },
  {
   "cell_type": "code",
   "execution_count": 9,
   "metadata": {},
   "outputs": [],
   "source": [
    "np.save('features.npy',X) #saving\n",
    "np.save('labels.npy',Y)\n"
   ]
  },
  {
   "cell_type": "code",
   "execution_count": 10,
   "metadata": {},
   "outputs": [],
   "source": [
    "X=np.load('features.npy')#loading\n",
    "Y=np.load('labels.npy')"
   ]
  },
  {
   "cell_type": "code",
   "execution_count": 11,
   "metadata": {},
   "outputs": [
    {
     "name": "stdout",
     "output_type": "stream",
     "text": [
      "[[0.85098039 0.7372549  0.72156863 ... 0.53333333 0.56470588 0.56862745]\n",
      " [0.3372549  0.34901961 0.37647059 ... 0.00392157 0.01568627 0.03137255]\n",
      " [0.55294118 0.63921569 0.63529412 ... 0.36862745 0.34901961 0.42745098]\n",
      " ...\n",
      " [0.41176471 0.36078431 0.36470588 ... 0.3372549  0.36470588 0.36078431]\n",
      " [0.63921569 0.69803922 0.68235294 ... 0.41176471 0.38039216 0.37647059]\n",
      " [0.51764706 0.49803922 0.47058824 ... 0.11372549 0.12156863 0.12941176]]\n"
     ]
    }
   ],
   "source": [
    "print(X)"
   ]
  },
  {
   "cell_type": "code",
   "execution_count": null,
   "metadata": {},
   "outputs": [],
   "source": []
  }
 ],
 "metadata": {
  "kernelspec": {
   "display_name": "Python 3",
   "language": "python",
   "name": "python3"
  },
  "language_info": {
   "codemirror_mode": {
    "name": "ipython",
    "version": 3
   },
   "file_extension": ".py",
   "mimetype": "text/x-python",
   "name": "python",
   "nbconvert_exporter": "python",
   "pygments_lexer": "ipython3",
   "version": "3.6.8"
  }
 },
 "nbformat": 4,
 "nbformat_minor": 4
}
